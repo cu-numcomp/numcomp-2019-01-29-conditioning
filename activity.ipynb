{
 "cells": [
  {
   "cell_type": "markdown",
   "metadata": {},
   "source": [
    "Before you turn this problem in, make sure everything runs as expected. First, **restart the kernel** (in the menubar, select Kernel$\\rightarrow$Restart) and then **run all cells** (in the menubar, select Cell$\\rightarrow$Run All).\n",
    "\n",
    "Make sure you fill in any place that says `YOUR CODE HERE` or \"YOUR ANSWER HERE\", as well as your name and collaborators below:"
   ]
  },
  {
   "cell_type": "code",
   "execution_count": null,
   "metadata": {},
   "outputs": [],
   "source": [
    "NAME = \"\"\n",
    "COLLABORATORS = \"\""
   ]
  },
  {
   "cell_type": "markdown",
   "metadata": {},
   "source": [
    "---"
   ]
  },
  {
   "cell_type": "markdown",
   "metadata": {},
   "source": [
    "# Conditioning\n",
    "\n",
    "Conditioning of a function $f(x)$ asks about the behavior of $f$ for points $x + \\delta x$ \"nearby\" to $x$.  When \"nearby\" is measured in absolute terms, as in\n",
    "$$\\lvert \\delta x \\rvert < \\text{tolerance} $$\n",
    "then we will care about the absolute condition number\n",
    "$$\\hat \\kappa = \\lvert f'(x) \\rvert .$$\n",
    "For floating point arithmetic, we evaluate closeness as\n",
    "$$ \\left\\lvert \\frac{\\delta x}{x} \\right\\rvert < \\text{tolerance} $$\n",
    "and thus are interested in the relative condition number\n",
    "$$ \\kappa = |f'(x)| \\frac{|x|}{|f|} .$$"
   ]
  },
  {
   "cell_type": "code",
   "execution_count": null,
   "metadata": {},
   "outputs": [],
   "source": [
    "%matplotlib inline\n",
    "import matplotlib.pyplot as plt\n",
    "plt.style.use('ggplot')\n",
    "import numpy as np\n",
    "\n",
    "def plus_one(x):\n",
    "    return x + 1\n",
    "\n",
    "def plot_abscond(f, x, tol):\n",
    "    xx = x + tol*np.random.randn(100);\n",
    "    yy = f(xx)\n",
    "    plt.plot(xx, yy, 'o')\n",
    "    plt.xlabel('x')\n",
    "    plt.ylabel('y')\n",
    "    plt.title('Absolute conditioning')\n",
    "    return xx, yy;\n",
    "    \n",
    "plot_abscond(plus_one, 1, 1e-2);"
   ]
  },
  {
   "cell_type": "markdown",
   "metadata": {},
   "source": [
    "The absolute condition number is seen in the slope of this line."
   ]
  },
  {
   "cell_type": "code",
   "execution_count": null,
   "metadata": {},
   "outputs": [],
   "source": [
    "def plot_relcond(f, x, tol):\n",
    "    # 1e-16 to avoid dividing by zero if x=0\n",
    "    xscale = 1e-16 + np.abs(x)\n",
    "    yscale = 1e-16 + np.abs(f(x))\n",
    "    xx = x + tol * xscale * np.random.randn(100);\n",
    "    yy = f(xx)\n",
    "    plt.plot(xx/xscale, yy/yscale, 'o')\n",
    "    plt.xlabel('x/xscale')\n",
    "    plt.ylabel('y/yscale')\n",
    "    plt.title('Relative conditioning')\n",
    "    return xx/xscale, yy/yscale\n",
    "    \n",
    "plot_relcond(plus_one, 1, 1e-2);"
   ]
  },
  {
   "cell_type": "markdown",
   "metadata": {},
   "source": [
    "The relative condition number is seen in the slope."
   ]
  },
  {
   "cell_type": "code",
   "execution_count": null,
   "metadata": {
    "deletable": false,
    "editable": false,
    "nbgrader": {
     "cell_type": "code",
     "checksum": "4002bc68d7deced67170dde7184cc27c",
     "grade": false,
     "grade_id": "cell-37a314eb816621e9",
     "locked": true,
     "schema_version": 3,
     "solution": false,
     "task": false
    }
   },
   "outputs": [],
   "source": [
    "def f(x):\n",
    "    return np.log(1e-10 + np.abs(x - 0.5))"
   ]
  },
  {
   "cell_type": "code",
   "execution_count": null,
   "metadata": {
    "deletable": false,
    "nbgrader": {
     "cell_type": "code",
     "checksum": "00e4337dcf4b65043497c904b1e7b646",
     "grade": false,
     "grade_id": "cell-8dc2d645f9359607",
     "locked": false,
     "schema_version": 3,
     "solution": true,
     "task": false
    }
   },
   "outputs": [],
   "source": [
    "# YOUR CODE HERE\n",
    "raise NotImplementedError()"
   ]
  },
  {
   "cell_type": "code",
   "execution_count": null,
   "metadata": {
    "deletable": false,
    "editable": false,
    "nbgrader": {
     "cell_type": "code",
     "checksum": "c1ada746039d4d2b55a848dbfb8509f5",
     "grade": true,
     "grade_id": "cell-010bcebcc4bd7e9b",
     "locked": true,
     "points": 1,
     "schema_version": 3,
     "solution": false,
     "task": false
    }
   },
   "outputs": [],
   "source": [
    "xx, yy = plot_abscond(f, bigabs(), 1e-4)\n",
    "assert yy.max() - yy.min() > 1, \"Try a different point\""
   ]
  },
  {
   "cell_type": "code",
   "execution_count": null,
   "metadata": {
    "deletable": false,
    "editable": false,
    "nbgrader": {
     "cell_type": "code",
     "checksum": "60d21d1c0bd2733dc1b9c12285e73859",
     "grade": false,
     "grade_id": "cell-9b5a2e2b2e7e23cc",
     "locked": true,
     "schema_version": 3,
     "solution": false,
     "task": false
    }
   },
   "outputs": [],
   "source": [
    "def g(x):\n",
    "    return np.log(1e-10 + np.abs(x - 0.5))"
   ]
  },
  {
   "cell_type": "code",
   "execution_count": null,
   "metadata": {
    "deletable": false,
    "nbgrader": {
     "cell_type": "code",
     "checksum": "c007e140dbda99d6ea3b494c697c3dd5",
     "grade": false,
     "grade_id": "cell-14f6036919b7a25e",
     "locked": false,
     "schema_version": 3,
     "solution": true,
     "task": false
    }
   },
   "outputs": [],
   "source": [
    "# YOUR CODE HERE\n",
    "raise NotImplementedError()"
   ]
  },
  {
   "cell_type": "code",
   "execution_count": null,
   "metadata": {
    "deletable": false,
    "editable": false,
    "nbgrader": {
     "cell_type": "code",
     "checksum": "cbeea17640a77855bb3be66d662bde46",
     "grade": true,
     "grade_id": "cell-525a0e77a5444dfe",
     "locked": true,
     "points": 1,
     "schema_version": 3,
     "solution": false,
     "task": false
    }
   },
   "outputs": [],
   "source": [
    "xx, yy = plot_relcond(g, bigrel(), 1e-4)\n",
    "assert yy.max() - yy.min() > 1000, \"Try a different x\""
   ]
  }
 ],
 "metadata": {
  "kernelspec": {
   "display_name": "Python 3",
   "language": "python",
   "name": "python3"
  },
  "language_info": {
   "codemirror_mode": {
    "name": "ipython",
    "version": 3
   },
   "file_extension": ".py",
   "mimetype": "text/x-python",
   "name": "python",
   "nbconvert_exporter": "python",
   "pygments_lexer": "ipython3",
   "version": "3.6.7"
  }
 },
 "nbformat": 4,
 "nbformat_minor": 2
}
